{
 "cells": [
  {
   "cell_type": "code",
   "execution_count": 1,
   "id": "d0d1cbbe-40d7-43d1-a713-fed2fe6391c8",
   "metadata": {},
   "outputs": [],
   "source": [
    "import pandas as pd\n",
    "path = 'Minhas Listas - Filmes.csv'"
   ]
  },
  {
   "cell_type": "code",
   "execution_count": null,
   "id": "f2a9984a-c379-41de-af67-65a66e4ee314",
   "metadata": {},
   "outputs": [],
   "source": [
    "my = pd.read_csv(path, low_memory=False, index_col='tconst' )\n",
    "basics = pd.read_csv('imdb_dataset/title.basics.tsv', sep='\\t', low_memory=False, index_col='tconst')\n",
    "cast = pd.read_csv('imdb_dataset/title.principals.tsv', sep='\\t', low_memory=False, index_col='tconst')\n",
    "crew = pd.read_csv('imdb_dataset/title.crew.tsv', sep='\\t', low_memory=False, index_col='tconst')\n",
    "names = pd.read_csv('imdb_dataset/name.basics.tsv', sep='\\t', low_memory=False)\n",
    "ratings = pd.read_csv('imdb_dataset/title.ratings.tsv', sep='\\t', low_memory=False, index_col='tconst') "
   ]
  },
  {
   "cell_type": "code",
   "execution_count": null,
   "id": "e99bead0",
   "metadata": {},
   "outputs": [],
   "source": [
    "new_entry = 'tt0085995'\n",
    "entry_dict = {'tconst':new_entry}"
   ]
  },
  {
   "cell_type": "code",
   "execution_count": null,
   "id": "a7f5e61e",
   "metadata": {},
   "outputs": [],
   "source": [
    "entry_dict['originalTitle'] = basics.loc[new_entry, 'originalTitle']\n",
    "entry_dict['startYear'] = int(basics.loc[new_entry, 'startYear'])\n",
    "entry_dict['runtimeMinutes'] = int(basics.loc[new_entry, 'runtimeMinutes'])\n",
    "entry_dict['genres'] = basics.loc[new_entry, 'genres']\n",
    "entry_dict['directors'] = crew.loc[new_entry, 'directors']\n",
    "entry_dict['writers'] = crew.loc[new_entry, 'writers']\n",
    "entry_dict['averageRating'] = float(ratings.loc[new_entry, 'averageRating'])\n",
    "entry_dict['numVotes'] = int(ratings.loc[new_entry, 'numVotes'])\n",
    "cast = cast.loc[(cast['category'] == 'actor') | (cast['category'] == 'actress')]\n",
    "result = cast.loc[new_entry].groupby('tconst')['nconst'].apply(lambda x: ', '.join(x)).reset_index()\n",
    "entry_dict['nconst'] = result['nconst'].iloc[0]\n",
    "\n",
    "\n",
    "code_to_name = dict(zip(names['nconst'], names['primaryName']))\n",
    "\n",
    "def replace_codes_with_names(cell):\n",
    "    if pd.isna(cell):\n",
    "        return cell\n",
    "    parts = [p.strip() for p in str(cell).split(',')]\n",
    "    replaced = []\n",
    "    for part in parts:\n",
    "        if part == '':\n",
    "            continue\n",
    "        nome = code_to_name.get(part, part)\n",
    "        replaced.append(nome)\n",
    "    return ', '.join(replaced)\n",
    "\n",
    "entry_dict['directors'] = replace_codes_with_names(entry_dict['directors'])\n",
    "entry_dict['writers'] = replace_codes_with_names(entry_dict['writers'])\n",
    "entry_dict['nconst'] = replace_codes_with_names(entry_dict['nconst'])"
   ]
  },
  {
   "cell_type": "code",
   "execution_count": 7,
   "id": "476c3325",
   "metadata": {},
   "outputs": [
    {
     "data": {
      "text/plain": [
       "{'tconst': 'tt0085995',\n",
       " 'originalTitle': \"National Lampoon's Vacation\",\n",
       " 'startYear': 1983,\n",
       " 'runtimeMinutes': 98,\n",
       " 'genres': 'Adventure,Comedy',\n",
       " 'directors': 'Harold Ramis',\n",
       " 'writers': 'John Hughes',\n",
       " 'averageRating': 7.3,\n",
       " 'numVotes': 124678,\n",
       " 'nconst': \"Chevy Chase, Beverly D'Angelo, Imogene Coca, Randy Quaid, Anthony Michael Hall, Dana Barron, Eddie Bracken, Brian Doyle-Murray, Miriam Flynn, James Keach\"}"
      ]
     },
     "execution_count": 7,
     "metadata": {},
     "output_type": "execute_result"
    }
   ],
   "source": [
    "entry_dict"
   ]
  },
  {
   "cell_type": "code",
   "execution_count": 8,
   "id": "705bbd66",
   "metadata": {},
   "outputs": [],
   "source": [
    "entry_dict['personal_score'] = 6\n"
   ]
  },
  {
   "cell_type": "code",
   "execution_count": 9,
   "id": "e28044b8",
   "metadata": {},
   "outputs": [],
   "source": [
    "new_entry_df = pd.DataFrame([entry_dict])\n",
    "new_entry_df.set_index('tconst', inplace=True)\n",
    "my = pd.concat([my, new_entry_df], axis=0)\n"
   ]
  },
  {
   "cell_type": "code",
   "execution_count": 20,
   "id": "35ef3cdf",
   "metadata": {},
   "outputs": [
    {
     "data": {
      "application/vnd.microsoft.datawrangler.viewer.v0+json": {
       "columns": [
        {
         "name": "index",
         "rawType": "object",
         "type": "string"
        },
        {
         "name": "tt0085995",
         "rawType": "object",
         "type": "unknown"
        }
       ],
       "ref": "46242a4b-80d4-4ab4-9ae3-20ddaaaafeb1",
       "rows": [
        [
         "originalTitle",
         "National Lampoon's Vacation"
        ],
        [
         "personal_score",
         "6.0"
        ],
        [
         "averageRating",
         "7.3"
        ],
        [
         "startYear",
         "1983"
        ],
        [
         "genres",
         "Adventure,Comedy"
        ],
        [
         "runtimeMinutes",
         "98"
        ],
        [
         "directors",
         "Harold Ramis"
        ],
        [
         "writers",
         "John Hughes"
        ],
        [
         "numVotes",
         "124678"
        ],
        [
         "nconst",
         "Chevy Chase, Beverly D'Angelo, Imogene Coca, Randy Quaid, Anthony Michael Hall, Dana Barron, Eddie Bracken, Brian Doyle-Murray, Miriam Flynn, James Keach"
        ]
       ],
       "shape": {
        "columns": 1,
        "rows": 10
       }
      },
      "text/plain": [
       "originalTitle                           National Lampoon's Vacation\n",
       "personal_score                                                  6.0\n",
       "averageRating                                                   7.3\n",
       "startYear                                                      1983\n",
       "genres                                             Adventure,Comedy\n",
       "runtimeMinutes                                                   98\n",
       "directors                                              Harold Ramis\n",
       "writers                                                 John Hughes\n",
       "numVotes                                                     124678\n",
       "nconst            Chevy Chase, Beverly D'Angelo, Imogene Coca, R...\n",
       "Name: tt0085995, dtype: object"
      ]
     },
     "execution_count": 20,
     "metadata": {},
     "output_type": "execute_result"
    }
   ],
   "source": [
    "my.loc[new_entry]"
   ]
  },
  {
   "cell_type": "code",
   "execution_count": 19,
   "id": "02ec3a3c",
   "metadata": {},
   "outputs": [],
   "source": [
    "my.drop_duplicates(inplace=True)\n",
    "my.to_csv(path)"
   ]
  }
 ],
 "metadata": {
  "kernelspec": {
   "display_name": "Python 3",
   "language": "python",
   "name": "python3"
  },
  "language_info": {
   "codemirror_mode": {
    "name": "ipython",
    "version": 3
   },
   "file_extension": ".py",
   "mimetype": "text/x-python",
   "name": "python",
   "nbconvert_exporter": "python",
   "pygments_lexer": "ipython3",
   "version": "3.12.0"
  }
 },
 "nbformat": 4,
 "nbformat_minor": 5
}
