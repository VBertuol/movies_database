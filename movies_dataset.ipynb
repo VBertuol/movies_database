{
 "cells": [
  {
   "cell_type": "code",
   "execution_count": 1,
   "id": "1d0ffb28",
   "metadata": {},
   "outputs": [],
   "source": [
    "import pandas as pd"
   ]
  },
  {
   "cell_type": "code",
   "execution_count": 2,
   "id": "ff268101",
   "metadata": {},
   "outputs": [],
   "source": [
    "basics = pd.read_csv('imdb_dataset/title.basics.tsv', sep='\\t', low_memory=False, index_col='tconst')\n",
    "cast = pd.read_csv('imdb_dataset/title.principals.tsv', sep='\\t', low_memory=False, index_col='tconst')\n",
    "crew = pd.read_csv('imdb_dataset/title.crew.tsv', sep='\\t', low_memory=False, index_col='tconst')\n",
    "names = pd.read_csv('imdb_dataset/name.basics.tsv', sep='\\t', low_memory=False)\n",
    "ratings = pd.read_csv('imdb_dataset/title.ratings.tsv', sep='\\t', low_memory=False, index_col='tconst') "
   ]
  },
  {
   "cell_type": "code",
   "execution_count": null,
   "id": "e56475c1",
   "metadata": {},
   "outputs": [],
   "source": [
    "movies = basics.loc[basics['titleType'] == 'movie']\n",
    "movies = movies.loc[movies['isAdult'] == '0']\n",
    "movies = movies.loc[movies['runtimeMinutes'] != r'\\N']\n",
    "movies = movies.loc[movies['genres'] != r'\\N']\n",
    "movies = movies.drop(columns=['titleType', 'primaryTitle', 'isAdult', 'endYear'])"
   ]
  },
  {
   "cell_type": "code",
   "execution_count": null,
   "id": "b6683344",
   "metadata": {},
   "outputs": [],
   "source": [
    "ratings = ratings.loc[ratings.index.isin(movies.index)]\n",
    "crew = crew.loc[crew.index.isin(movies.index)]\n",
    "cast = cast.loc[cast.index.isin(movies.index)]\n",
    "cast = cast.loc[(cast['category'] == 'actor') | (cast['category'] == 'actress')]\n",
    "cast = cast.groupby('tconst')['nconst'].apply(lambda x: ', '.join(x))"
   ]
  },
  {
   "cell_type": "code",
   "execution_count": null,
   "id": "db5cb33b",
   "metadata": {},
   "outputs": [],
   "source": [
    "movies = pd.concat([movies, ratings, crew, cast], axis='columns', sort=False)\n",
    "movies.dropna(inplace=True)\n",
    "movies = movies.loc[movies['directors'] != r'\\N']\n",
    "movies = movies.loc[movies['writers'] != r'\\N']\n",
    "movies = movies.loc[movies['nconst'] != r'\\N']\n",
    "# movies['numVotes'].describe(): 50% == 112.0\n",
    "movies = movies.loc[movies['numVotes'] > 112]"
   ]
  },
  {
   "cell_type": "code",
   "execution_count": 96,
   "id": "6864d52a",
   "metadata": {},
   "outputs": [],
   "source": [
    "code_to_name = dict(zip(names['nconst'], names['primaryName']))\n",
    "\n",
    "def replace_codes_with_names(cell):\n",
    "    if pd.isna(cell):\n",
    "        return cell\n",
    "    parts = [p.strip() for p in str(cell).split(',')]\n",
    "    replaced = []\n",
    "    for part in parts:\n",
    "        if part == '':\n",
    "            continue\n",
    "        nome = code_to_name.get(part, part)\n",
    "        replaced.append(nome)\n",
    "    return ', '.join(replaced)\n",
    "\n",
    "movies.loc[:,'directors'] = movies['directors'].apply(replace_codes_with_names)\n",
    "movies.loc[:,'writers'] = movies['writers'].apply(replace_codes_with_names)\n",
    "movies.loc[:,'nconst'] = movies['nconst'].apply(replace_codes_with_names)"
   ]
  },
  {
   "cell_type": "code",
   "execution_count": 98,
   "id": "0880a805",
   "metadata": {},
   "outputs": [],
   "source": [
    "movies.to_csv('movies.csv')"
   ]
  }
 ],
 "metadata": {
  "kernelspec": {
   "display_name": "Python 3",
   "language": "python",
   "name": "python3"
  },
  "language_info": {
   "codemirror_mode": {
    "name": "ipython",
    "version": 3
   },
   "file_extension": ".py",
   "mimetype": "text/x-python",
   "name": "python",
   "nbconvert_exporter": "python",
   "pygments_lexer": "ipython3",
   "version": "3.12.0"
  }
 },
 "nbformat": 4,
 "nbformat_minor": 5
}
