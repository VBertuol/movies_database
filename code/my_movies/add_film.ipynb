{
 "cells": [
  {
   "cell_type": "code",
   "execution_count": 5,
   "id": "d0d1cbbe-40d7-43d1-a713-fed2fe6391c8",
   "metadata": {},
   "outputs": [],
   "source": [
    "import pandas as pd\n",
    "path = '../../data/my/Minhas Listas - Filmes.csv'"
   ]
  },
  {
   "cell_type": "code",
   "execution_count": 6,
   "id": "f2a9984a-c379-41de-af67-65a66e4ee314",
   "metadata": {},
   "outputs": [],
   "source": [
    "my = pd.read_csv(path, low_memory=False, index_col='tconst' )\n",
    "movies = pd.read_csv('../../data/general/movies.csv', low_memory=False, index_col='tconst')"
   ]
  },
  {
   "cell_type": "code",
   "execution_count": 7,
   "id": "932b1d78",
   "metadata": {},
   "outputs": [
    {
     "data": {
      "application/vnd.microsoft.datawrangler.viewer.v0+json": {
       "columns": [
        {
         "name": "index",
         "rawType": "object",
         "type": "string"
        },
        {
         "name": "tt0110475",
         "rawType": "object",
         "type": "unknown"
        }
       ],
       "ref": "f5ab1ca7-26b2-4ad3-8bb1-93eaf130c09b",
       "rows": [
        [
         "originalTitle",
         "The Mask"
        ],
        [
         "startYear",
         "1994"
        ],
        [
         "runtimeMinutes",
         "101"
        ],
        [
         "genres",
         "Comedy,Crime,Fantasy"
        ],
        [
         "averageRating",
         "7.0"
        ],
        [
         "numVotes",
         "448580.0"
        ],
        [
         "directors",
         "Chuck Russell"
        ],
        [
         "writers",
         "Michael Fallon, Mark Verheiden, Mike Werb"
        ],
        [
         "nconst",
         "Jim Carrey, Cameron Diaz, Peter Riegert, Peter Greene, Amy Yasbeck, Richard Jeni, Orestes Matacena, Tim Bagley, Nancy Fish, Johnny Williams"
        ]
       ],
       "shape": {
        "columns": 1,
        "rows": 9
       }
      },
      "text/plain": [
       "originalTitle                                              The Mask\n",
       "startYear                                                      1994\n",
       "runtimeMinutes                                                  101\n",
       "genres                                         Comedy,Crime,Fantasy\n",
       "averageRating                                                   7.0\n",
       "numVotes                                                   448580.0\n",
       "directors                                             Chuck Russell\n",
       "writers                   Michael Fallon, Mark Verheiden, Mike Werb\n",
       "nconst            Jim Carrey, Cameron Diaz, Peter Riegert, Peter...\n",
       "Name: tt0110475, dtype: object"
      ]
     },
     "execution_count": 7,
     "metadata": {},
     "output_type": "execute_result"
    }
   ],
   "source": [
    "movies.loc['tt0110475']"
   ]
  },
  {
   "cell_type": "code",
   "execution_count": 8,
   "id": "e99bead0",
   "metadata": {},
   "outputs": [],
   "source": [
    "new_entry = 'tt0110475'\n",
    "entry_dict = {'tconst':new_entry}"
   ]
  },
  {
   "cell_type": "code",
   "execution_count": 9,
   "id": "a7f5e61e",
   "metadata": {},
   "outputs": [],
   "source": [
    "entry_dict['originalTitle'] = movies.loc[new_entry, 'originalTitle']\n",
    "entry_dict['startYear'] = int(movies.loc[new_entry, 'startYear'])\n",
    "entry_dict['runtimeMinutes'] = int(movies.loc[new_entry, 'runtimeMinutes'])\n",
    "entry_dict['genres'] = movies.loc[new_entry, 'genres']\n",
    "entry_dict['directors'] = movies.loc[new_entry, 'directors']\n",
    "entry_dict['writers'] = movies.loc[new_entry, 'writers']\n",
    "entry_dict['averageRating'] = float(movies.loc[new_entry, 'averageRating'])\n",
    "entry_dict['numVotes'] = int(movies.loc[new_entry, 'numVotes'])\n",
    "entry_dict['nconst'] = movies.loc[new_entry, 'nconst']"
   ]
  },
  {
   "cell_type": "code",
   "execution_count": 18,
   "id": "476c3325",
   "metadata": {},
   "outputs": [
    {
     "data": {
      "text/plain": [
       "{'tconst': 'tt0110475',\n",
       " 'originalTitle': 'The Mask',\n",
       " 'startYear': 1994,\n",
       " 'runtimeMinutes': 101,\n",
       " 'genres': 'Comedy,Crime,Fantasy',\n",
       " 'directors': 'Chuck Russell',\n",
       " 'writers': 'Michael Fallon, Mark Verheiden, Mike Werb',\n",
       " 'averageRating': 7.0,\n",
       " 'numVotes': 448580,\n",
       " 'nconst': 'Jim Carrey, Cameron Diaz, Peter Riegert, Peter Greene, Amy Yasbeck, Richard Jeni, Orestes Matacena, Tim Bagley, Nancy Fish, Johnny Williams',\n",
       " 'personal_score': 6}"
      ]
     },
     "execution_count": 18,
     "metadata": {},
     "output_type": "execute_result"
    }
   ],
   "source": [
    "entry_dict"
   ]
  },
  {
   "cell_type": "code",
   "execution_count": 11,
   "id": "705bbd66",
   "metadata": {},
   "outputs": [],
   "source": [
    "entry_dict['personal_score'] = 6\n"
   ]
  },
  {
   "cell_type": "code",
   "execution_count": 24,
   "id": "e28044b8",
   "metadata": {},
   "outputs": [],
   "source": [
    "\n",
    "my.drop(index=new_entry, inplace=True)\n",
    "new_entry_df = pd.DataFrame([entry_dict])\n",
    "new_entry_df.set_index('tconst', inplace=True)\n",
    "my = pd.concat([my, new_entry_df], axis=0)\n"
   ]
  },
  {
   "cell_type": "code",
   "execution_count": 25,
   "id": "35ef3cdf",
   "metadata": {},
   "outputs": [
    {
     "data": {
      "application/vnd.microsoft.datawrangler.viewer.v0+json": {
       "columns": [
        {
         "name": "index",
         "rawType": "object",
         "type": "string"
        },
        {
         "name": "tt0110475",
         "rawType": "object",
         "type": "unknown"
        }
       ],
       "ref": "cafb4ba2-5b21-48d7-b516-a041dc4c73c6",
       "rows": [
        [
         "originalTitle",
         "The Mask"
        ],
        [
         "personal_score",
         "6.0"
        ],
        [
         "averageRating",
         "7.0"
        ],
        [
         "startYear",
         "1994"
        ],
        [
         "genres",
         "Comedy,Crime,Fantasy"
        ],
        [
         "runtimeMinutes",
         "101"
        ],
        [
         "directors",
         "Chuck Russell"
        ],
        [
         "writers",
         "Michael Fallon, Mark Verheiden, Mike Werb"
        ],
        [
         "numVotes",
         "448580"
        ],
        [
         "nconst",
         "Jim Carrey, Cameron Diaz, Peter Riegert, Peter Greene, Amy Yasbeck, Richard Jeni, Orestes Matacena, Tim Bagley, Nancy Fish, Johnny Williams"
        ]
       ],
       "shape": {
        "columns": 1,
        "rows": 10
       }
      },
      "text/plain": [
       "originalTitle                                              The Mask\n",
       "personal_score                                                  6.0\n",
       "averageRating                                                   7.0\n",
       "startYear                                                      1994\n",
       "genres                                         Comedy,Crime,Fantasy\n",
       "runtimeMinutes                                                  101\n",
       "directors                                             Chuck Russell\n",
       "writers                   Michael Fallon, Mark Verheiden, Mike Werb\n",
       "numVotes                                                     448580\n",
       "nconst            Jim Carrey, Cameron Diaz, Peter Riegert, Peter...\n",
       "Name: tt0110475, dtype: object"
      ]
     },
     "execution_count": 25,
     "metadata": {},
     "output_type": "execute_result"
    }
   ],
   "source": [
    "my.loc[new_entry]"
   ]
  },
  {
   "cell_type": "code",
   "execution_count": 26,
   "id": "02ec3a3c",
   "metadata": {},
   "outputs": [],
   "source": [
    "my['index'] = my.index\n",
    "my.drop_duplicates(subset=['index'], inplace=True)\n",
    "my = my.drop(columns='index')\n",
    "my.to_csv(path)"
   ]
  }
 ],
 "metadata": {
  "kernelspec": {
   "display_name": "Python 3",
   "language": "python",
   "name": "python3"
  },
  "language_info": {
   "codemirror_mode": {
    "name": "ipython",
    "version": 3
   },
   "file_extension": ".py",
   "mimetype": "text/x-python",
   "name": "python",
   "nbconvert_exporter": "python",
   "pygments_lexer": "ipython3",
   "version": "3.12.0"
  }
 },
 "nbformat": 4,
 "nbformat_minor": 5
}
