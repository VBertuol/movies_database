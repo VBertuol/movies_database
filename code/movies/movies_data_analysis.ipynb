{
 "cells": [
  {
   "cell_type": "code",
   "execution_count": 333,
   "id": "6ae41193",
   "metadata": {},
   "outputs": [],
   "source": [
    "import pandas as pd\n",
    "path = 'general/movies.csv'\n",
    "movies_path = 'genres/Western/movies.csv'\n",
    "directors_path = 'genres/Western/directors.csv'\n",
    "writers_path = 'genres/Western/writers.csv'\n",
    "nconst_path = 'genres/Western/nconst.csv'\n",
    "years_path = 'genres/Western/years.csv'\n",
    "decades_path = 'genres/Western/decades.csv'\n",
    "runtime_path = 'genres/Western/runtime.csv'\n",
    "runtimeInterval_path = 'genres/Western/runtimeInterval.csv'\n",
    "numVotes_path = 'genres/Western/numVotes.csv'\n",
    "numVotesInterval_path = 'genres/Western/numVotesInterval.csv'"
   ]
  },
  {
   "cell_type": "code",
   "execution_count": 334,
   "id": "aeb467cd",
   "metadata": {},
   "outputs": [],
   "source": [
    "movies = pd.read_csv(path, low_memory=False, index_col='tconst' )\n",
    "movies = movies.loc[movies['startYear'] != r'\\N']\n",
    "movies['startYear'] = movies['startYear'].apply(lambda x: int(x))\n",
    "movies['numVotes'] = movies['numVotes'].apply(lambda x: int(x))\n",
    "movies = movies.loc[movies['numVotes'] > 10000]"
   ]
  },
  {
   "cell_type": "code",
   "execution_count": 335,
   "id": "44e2750c",
   "metadata": {},
   "outputs": [],
   "source": [
    "# Passo 1: Explodir os gêneros em linhas separadas\n",
    "movies_exploded = movies.copy()\n",
    "movies_exploded['genres'] = movies_exploded['genres'].str.split(',')  # Divide os gêneros\n",
    "movies_exploded = movies_exploded.explode('genres')  # Cria uma linha por gênero\n",
    "\n",
    "# Passo 2: Agrupar por gênero e calcular as métricas\n",
    "movies = movies_exploded.loc[movies_exploded['genres'] == 'Western']"
   ]
  },
  {
   "cell_type": "code",
   "execution_count": 336,
   "id": "60239222",
   "metadata": {},
   "outputs": [],
   "source": [
    "# Passo 1: Explodir os diretores em linhas separadas\n",
    "movies_exploded = movies.copy()\n",
    "movies_exploded['directors'] = movies_exploded['directors'].str.split(', ')  # Divide os gêneros\n",
    "movies_exploded = movies_exploded.explode('directors')  # Cria uma linha por gênero\n",
    "\n",
    "# Passo 2: Agrupar por gênero e calcular as métricas\n",
    "directors_stats = movies_exploded.groupby('directors').agg(\n",
    "    count=('directors', 'size'),  # Contar aparições\n",
    "    averageRating_mean=('averageRating', 'mean')  # Média de averageRating\n",
    ").reset_index()"
   ]
  },
  {
   "cell_type": "code",
   "execution_count": 337,
   "id": "581bdf05",
   "metadata": {},
   "outputs": [],
   "source": [
    "# Passo 1: Explodir os writers em linhas separadas\n",
    "movies_exploded = movies.copy()\n",
    "movies_exploded['writers'] = movies_exploded['writers'].str.split(', ')  # Divide os gêneros\n",
    "movies_exploded = movies_exploded.explode('writers')  # Cria uma linha por gênero\n",
    "\n",
    "# Passo 2: Agrupar por gênero e calcular as métricas\n",
    "writers_stats = movies_exploded.groupby('writers').agg(\n",
    "    count=('writers', 'size'),  # Contar aparições\n",
    "    averageRating_mean=('averageRating', 'mean')  # Média de averageRating\n",
    ").reset_index()"
   ]
  },
  {
   "cell_type": "code",
   "execution_count": 338,
   "id": "9c7b0974",
   "metadata": {},
   "outputs": [],
   "source": [
    "# Passo 1: Explodir o cast em linhas separadas\n",
    "movies_exploded = movies.copy()\n",
    "movies_exploded['nconst'] = movies_exploded['nconst'].str.split(', ')  # Divide os gêneros\n",
    "movies_exploded = movies_exploded.explode('nconst')  # Cria uma linha por gênero\n",
    "\n",
    "# Passo 2: Agrupar por gênero e calcular as métricas\n",
    "nconst_stats = movies_exploded.groupby('nconst').agg(\n",
    "    count=('nconst', 'size'),  # Contar aparições\n",
    "    averageRating_mean=('averageRating', 'mean')  # Média de averageRating\n",
    ").reset_index()"
   ]
  },
  {
   "cell_type": "code",
   "execution_count": 339,
   "id": "8ce7583e",
   "metadata": {},
   "outputs": [],
   "source": [
    "years_stats = movies.groupby('startYear').agg(\n",
    "    count=('startYear', 'size'),  # Contar aparições\n",
    "    averageRating_mean=('averageRating', 'mean')  # Média de averageRating\n",
    ").reset_index()"
   ]
  },
  {
   "cell_type": "code",
   "execution_count": 340,
   "id": "50437059",
   "metadata": {},
   "outputs": [],
   "source": [
    "years_stats['decade'] = (years_stats['startYear'] // 10) * 10\n",
    "decades_stats = years_stats.groupby('decade').agg({\n",
    "    'count': 'sum',\n",
    "    'averageRating_mean': 'mean'\n",
    "}).reset_index()"
   ]
  },
  {
   "cell_type": "code",
   "execution_count": 341,
   "id": "29cd413b",
   "metadata": {},
   "outputs": [],
   "source": [
    "runtime_stats = movies.groupby('runtimeMinutes').agg(\n",
    "    count=('runtimeMinutes', 'size'),  # Contar aparições\n",
    "    averageRating_mean=('averageRating', 'mean')  # Média de averageRating\n",
    ").reset_index() "
   ]
  },
  {
   "cell_type": "code",
   "execution_count": 342,
   "id": "cf44e415",
   "metadata": {},
   "outputs": [
    {
     "name": "stderr",
     "output_type": "stream",
     "text": [
      "C:\\Users\\Bertola\\AppData\\Local\\Temp\\ipykernel_21932\\3017179987.py:8: FutureWarning: The default of observed=False is deprecated and will be changed to True in a future version of pandas. Pass observed=False to retain current behavior or observed=True to adopt the future default and silence this warning.\n",
      "  runtimeInterval_stats = movies_copy.groupby('runtimeInterval').agg(\n"
     ]
    }
   ],
   "source": [
    "movies_copy = movies\n",
    "# Criar os intervalos\n",
    "bins = [0, 60, 90, 120, 150, 180, float('inf')]\n",
    "labels = ['<60', '60-90', '91-120', '121-150', '151-180', '>180']\n",
    "\n",
    "# Aplicar os intervalos na coluna 'runtimeMinutes'\n",
    "movies_copy['runtimeInterval'] = pd.cut(movies_copy['runtimeMinutes'], bins=bins, labels=labels, right=False)\n",
    "runtimeInterval_stats = movies_copy.groupby('runtimeInterval').agg(\n",
    "    count=('runtimeInterval', 'size'),  # Contar aparições\n",
    "    averageRating_mean=('averageRating', 'mean')  # Média de averageRating\n",
    ").reset_index()"
   ]
  },
  {
   "cell_type": "code",
   "execution_count": 343,
   "id": "5b1fc0ee",
   "metadata": {},
   "outputs": [],
   "source": [
    "numVotes_stats = movies.groupby('numVotes').agg(\n",
    "    count=('numVotes', 'size'),  # Contar aparições\n",
    "    averageRating_mean=('averageRating', 'mean')  # Média de averageRating\n",
    ").reset_index() "
   ]
  },
  {
   "cell_type": "code",
   "execution_count": 344,
   "id": "153ebd8d",
   "metadata": {},
   "outputs": [
    {
     "name": "stderr",
     "output_type": "stream",
     "text": [
      "C:\\Users\\Bertola\\AppData\\Local\\Temp\\ipykernel_21932\\2482770829.py:8: FutureWarning: The default of observed=False is deprecated and will be changed to True in a future version of pandas. Pass observed=False to retain current behavior or observed=True to adopt the future default and silence this warning.\n",
      "  numVotesInterval_stats = movies_copy.groupby('numVotesInterval').agg(\n"
     ]
    }
   ],
   "source": [
    "movies_copy = movies\n",
    "# Criar os intervalos\n",
    "bins = [10000, 100000, 1000000, float('inf')]\n",
    "labels = ['10001-100000', '100001-10000000', '>10000000']\n",
    "\n",
    "# Aplicar os intervalos na coluna 'runtimeMinutes'\n",
    "movies_copy['numVotesInterval'] = pd.cut(movies_copy['numVotes'], bins=bins, labels=labels, right=False)\n",
    "numVotesInterval_stats = movies_copy.groupby('numVotesInterval').agg(\n",
    "    count=('numVotesInterval', 'size'),  # Contar aparições\n",
    "    averageRating_mean=('averageRating', 'mean')  # Média de averageRating\n",
    ").reset_index()"
   ]
  },
  {
   "cell_type": "code",
   "execution_count": 345,
   "id": "8d2131ed",
   "metadata": {},
   "outputs": [],
   "source": [
    "movies.to_csv(movies_path)\n",
    "directors_stats.to_csv(directors_path)\n",
    "writers_stats.to_csv(writers_path)\n",
    "nconst_stats.to_csv(nconst_path)\n",
    "years_stats.to_csv(years_path)\n",
    "decades_stats.to_csv(decades_path)\n",
    "runtime_stats.to_csv(runtime_path)\n",
    "runtimeInterval_stats.to_csv(runtimeInterval_path)\n",
    "numVotes_stats.to_csv(numVotes_path)\n",
    "numVotesInterval_stats.to_csv(numVotesInterval_path)"
   ]
  }
 ],
 "metadata": {
  "kernelspec": {
   "display_name": "Python 3",
   "language": "python",
   "name": "python3"
  },
  "language_info": {
   "codemirror_mode": {
    "name": "ipython",
    "version": 3
   },
   "file_extension": ".py",
   "mimetype": "text/x-python",
   "name": "python",
   "nbconvert_exporter": "python",
   "pygments_lexer": "ipython3",
   "version": "3.12.0"
  }
 },
 "nbformat": 4,
 "nbformat_minor": 5
}
