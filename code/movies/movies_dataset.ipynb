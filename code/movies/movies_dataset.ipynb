{
 "cells": [
  {
   "cell_type": "code",
   "execution_count": 35,
   "id": "1d0ffb28",
   "metadata": {},
   "outputs": [],
   "source": [
    "import pandas as pd\n",
    "import gc"
   ]
  },
  {
   "cell_type": "code",
   "execution_count": 36,
   "id": "93e5ce6a",
   "metadata": {},
   "outputs": [
    {
     "data": {
      "text/plain": [
       "1511"
      ]
     },
     "execution_count": 36,
     "metadata": {},
     "output_type": "execute_result"
    }
   ],
   "source": [
    "basics = pd.read_csv('../../data/imdb_dataset/title.basics.tsv', sep='\\t', low_memory=False, index_col='tconst')\n",
    "movies = basics.loc[(basics['titleType'] == 'movie') | (basics['titleType'] == 'short') | (basics['titleType'] == 'video') | (basics['titleType'] == 'tvMovie')]\n",
    "movies = movies.loc[movies['isAdult'] == '0']\n",
    "movies = movies.loc[movies['runtimeMinutes'] != r'\\N']\n",
    "movies = movies.loc[movies['genres'] != r'\\N']\n",
    "movies = movies.loc[movies['startYear'] != r'\\N']\n",
    "movies = movies.drop(columns=['titleType', 'primaryTitle', 'isAdult', 'endYear'])\n",
    "movies.dropna(inplace=True)\n",
    "del basics\n",
    "gc.collect()"
   ]
  },
  {
   "cell_type": "code",
   "execution_count": 37,
   "id": "e56475c1",
   "metadata": {},
   "outputs": [
    {
     "data": {
      "text/plain": [
       "0"
      ]
     },
     "execution_count": 37,
     "metadata": {},
     "output_type": "execute_result"
    }
   ],
   "source": [
    "ratings = pd.read_csv('../../data/imdb_dataset/title.ratings.tsv', sep='\\t', low_memory=False, index_col='tconst') \n",
    "ratings = ratings.loc[ratings.index.isin(movies.index)]\n",
    "movies = pd.concat([movies, ratings], axis='columns', sort=False)\n",
    "movies = movies.loc[movies['numVotes'] > 99]\n",
    "movies.dropna(inplace=True)\n",
    "del ratings\n",
    "gc.collect()"
   ]
  },
  {
   "cell_type": "code",
   "execution_count": 38,
   "id": "e615a584",
   "metadata": {},
   "outputs": [
    {
     "data": {
      "text/plain": [
       "0"
      ]
     },
     "execution_count": 38,
     "metadata": {},
     "output_type": "execute_result"
    }
   ],
   "source": [
    "crew = pd.read_csv('../../data/imdb_dataset/title.crew.tsv', sep='\\t', low_memory=False, index_col='tconst')\n",
    "crew = crew.loc[crew.index.isin(movies.index)]\n",
    "movies = pd.concat([movies, crew], axis='columns', sort=False)\n",
    "movies = movies.loc[movies['directors'] != r'\\N']\n",
    "movies = movies.loc[movies['writers'] != r'\\N']\n",
    "movies.dropna(inplace=True)\n",
    "del crew\n",
    "gc.collect()"
   ]
  },
  {
   "cell_type": "code",
   "execution_count": 39,
   "id": "ae6b0544",
   "metadata": {},
   "outputs": [
    {
     "data": {
      "text/plain": [
       "0"
      ]
     },
     "execution_count": 39,
     "metadata": {},
     "output_type": "execute_result"
    }
   ],
   "source": [
    "cast = pd.read_csv('../../data/imdb_dataset/title.principals.tsv', sep='\\t', low_memory=False, index_col='tconst')\n",
    "cast = cast.loc[cast.index.isin(movies.index)]\n",
    "cast = cast.loc[(cast['category'] == 'actor') | (cast['category'] == 'actress')]\n",
    "cast['index'] = cast.index\n",
    "cast.drop_duplicates(subset=['nconst','index'], inplace=True)\n",
    "cast = cast.drop(columns='index')\n",
    "cast = cast.groupby('tconst')['nconst'].apply(lambda x: ', '.join(x))\n",
    "movies = pd.concat([movies, cast], axis='columns', sort=False)\n",
    "movies = movies.loc[movies['nconst'] != r'\\N']\n",
    "movies.dropna(inplace=True)\n",
    "del cast\n",
    "gc.collect()"
   ]
  },
  {
   "cell_type": "code",
   "execution_count": 40,
   "id": "6864d52a",
   "metadata": {},
   "outputs": [
    {
     "data": {
      "text/plain": [
       "0"
      ]
     },
     "execution_count": 40,
     "metadata": {},
     "output_type": "execute_result"
    }
   ],
   "source": [
    "names = pd.read_csv('../../data/imdb_dataset/name.basics.tsv', sep='\\t', low_memory=False)\n",
    "code_to_name = dict(zip(names['nconst'], names['primaryName']))\n",
    "\n",
    "def replace_codes_with_names(cell):\n",
    "    if pd.isna(cell):\n",
    "        return cell\n",
    "    parts = [p.strip() for p in str(cell).split(',')]\n",
    "    replaced = []\n",
    "    for part in parts:\n",
    "        if part == '':\n",
    "            continue\n",
    "        nome = code_to_name.get(part, part)\n",
    "        replaced.append(nome)\n",
    "    return ', '.join(replaced)\n",
    "\n",
    "movies.loc[:,'directors'] = movies['directors'].apply(replace_codes_with_names)\n",
    "movies.loc[:,'writers'] = movies['writers'].apply(replace_codes_with_names)\n",
    "movies.loc[:,'nconst'] = movies['nconst'].apply(replace_codes_with_names)\n",
    "\n",
    "del names\n",
    "gc.collect()"
   ]
  },
  {
   "cell_type": "code",
   "execution_count": 41,
   "id": "0880a805",
   "metadata": {},
   "outputs": [],
   "source": [
    "movies.to_csv('../../data/general/movies.csv')"
   ]
  }
 ],
 "metadata": {
  "kernelspec": {
   "display_name": "Python 3",
   "language": "python",
   "name": "python3"
  },
  "language_info": {
   "codemirror_mode": {
    "name": "ipython",
    "version": 3
   },
   "file_extension": ".py",
   "mimetype": "text/x-python",
   "name": "python",
   "nbconvert_exporter": "python",
   "pygments_lexer": "ipython3",
   "version": "3.12.0"
  }
 },
 "nbformat": 4,
 "nbformat_minor": 5
}
