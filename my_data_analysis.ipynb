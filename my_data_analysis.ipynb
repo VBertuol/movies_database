{
 "cells": [
  {
   "cell_type": "code",
   "execution_count": 160,
   "id": "6ae41193",
   "metadata": {},
   "outputs": [],
   "source": [
    "import pandas as pd\n",
    "path = 'my/Minhas Listas - Filmes.csv'\n",
    "genres_path = 'my/genres.csv'\n",
    "directors_path = 'my/directors.csv'\n",
    "writers_path = 'my/writers.csv'\n",
    "nconst_path = 'my/nconst.csv'\n",
    "years_path = 'my/years.csv'\n",
    "decades_path = 'my/decades.csv'\n",
    "runtime_path = 'my/runtime.csv'\n",
    "runtimeInterval_path = 'my/runtimeInterval.csv'\n",
    "numVotes_path = 'my/numVotes.csv'\n",
    "numVotesInterval_path = 'my/numVotesInterval.csv'\n"
   ]
  },
  {
   "cell_type": "code",
   "execution_count": 161,
   "id": "aeb467cd",
   "metadata": {},
   "outputs": [],
   "source": [
    "my = pd.read_csv(path, low_memory=False, index_col='tconst' )"
   ]
  },
  {
   "cell_type": "code",
   "execution_count": 162,
   "id": "44e2750c",
   "metadata": {},
   "outputs": [],
   "source": [
    "# Passo 1: Explodir os gêneros em linhas separadas\n",
    "my_exploded = my.copy()\n",
    "my_exploded['genres'] = my_exploded['genres'].str.split(',')  # Divide os gêneros\n",
    "my_exploded = my_exploded.explode('genres')  # Cria uma linha por gênero\n",
    "\n",
    "# Passo 2: Agrupar por gênero e calcular as métricas\n",
    "genre_stats = my_exploded.groupby('genres').agg(\n",
    "    count=('genres', 'size'),  # Contar aparições\n",
    "    personal_score_mean=('personal_score', 'mean'),  # Média de personal_score\n",
    "    averageRating_mean=('averageRating', 'mean')  # Média de averageRating\n",
    ").reset_index()"
   ]
  },
  {
   "cell_type": "code",
   "execution_count": 163,
   "id": "60239222",
   "metadata": {},
   "outputs": [],
   "source": [
    "# Passo 1: Explodir os diretores em linhas separadas\n",
    "my_exploded = my.copy()\n",
    "my_exploded['directors'] = my_exploded['directors'].str.split(', ')  # Divide os gêneros\n",
    "my_exploded = my_exploded.explode('directors')  # Cria uma linha por gênero\n",
    "\n",
    "# Passo 2: Agrupar por gênero e calcular as métricas\n",
    "directors_stats = my_exploded.groupby('directors').agg(\n",
    "    count=('directors', 'size'),  # Contar aparições\n",
    "    personal_score_mean=('personal_score', 'mean'),  # Média de personal_score\n",
    "    averageRating_mean=('averageRating', 'mean')  # Média de averageRating\n",
    ").reset_index()"
   ]
  },
  {
   "cell_type": "code",
   "execution_count": 164,
   "id": "581bdf05",
   "metadata": {},
   "outputs": [],
   "source": [
    "# Passo 1: Explodir os writers em linhas separadas\n",
    "my_exploded = my.copy()\n",
    "my_exploded['writers'] = my_exploded['writers'].str.split(', ')  # Divide os gêneros\n",
    "my_exploded = my_exploded.explode('writers')  # Cria uma linha por gênero\n",
    "\n",
    "# Passo 2: Agrupar por gênero e calcular as métricas\n",
    "writers_stats = my_exploded.groupby('writers').agg(\n",
    "    count=('writers', 'size'),  # Contar aparições\n",
    "    personal_score_mean=('personal_score', 'mean'),  # Média de personal_score\n",
    "    averageRating_mean=('averageRating', 'mean')  # Média de averageRating\n",
    ").reset_index()"
   ]
  },
  {
   "cell_type": "code",
   "execution_count": 165,
   "id": "9c7b0974",
   "metadata": {},
   "outputs": [],
   "source": [
    "# Passo 1: Explodir o cast em linhas separadas\n",
    "my_exploded = my.copy()\n",
    "my_exploded['nconst'] = my_exploded['nconst'].str.split(', ')  # Divide os gêneros\n",
    "my_exploded = my_exploded.explode('nconst')  # Cria uma linha por gênero\n",
    "\n",
    "# Passo 2: Agrupar por gênero e calcular as métricas\n",
    "nconst_stats = my_exploded.groupby('nconst').agg(\n",
    "    count=('nconst', 'size'),  # Contar aparições\n",
    "    personal_score_mean=('personal_score', 'mean'),  # Média de personal_score\n",
    "    averageRating_mean=('averageRating', 'mean')  # Média de averageRating\n",
    ").reset_index()"
   ]
  },
  {
   "cell_type": "code",
   "execution_count": 166,
   "id": "8ce7583e",
   "metadata": {},
   "outputs": [],
   "source": [
    "years_stats = my.groupby('startYear').agg(\n",
    "    count=('startYear', 'size'),  # Contar aparições\n",
    "    personal_score_mean=('personal_score', 'mean'),  # Média de personal_score\n",
    "    averageRating_mean=('averageRating', 'mean')  # Média de averageRating\n",
    ").reset_index()"
   ]
  },
  {
   "cell_type": "code",
   "execution_count": 167,
   "id": "50437059",
   "metadata": {},
   "outputs": [],
   "source": [
    "years_stats['decade'] = (years_stats['startYear'] // 10) * 10\n",
    "decades_stats = years_stats.groupby('decade').agg({\n",
    "    'count': 'sum',\n",
    "    'personal_score_mean': 'mean',\n",
    "    'averageRating_mean': 'mean'\n",
    "}).reset_index()"
   ]
  },
  {
   "cell_type": "code",
   "execution_count": 168,
   "id": "29cd413b",
   "metadata": {},
   "outputs": [],
   "source": [
    "runtime_stats = my.groupby('runtimeMinutes').agg(\n",
    "    count=('runtimeMinutes', 'size'),  # Contar aparições\n",
    "    personal_score_mean=('personal_score', 'mean'),  # Média de personal_score\n",
    "    averageRating_mean=('averageRating', 'mean')  # Média de averageRating\n",
    ").reset_index() "
   ]
  },
  {
   "cell_type": "code",
   "execution_count": 169,
   "id": "cf44e415",
   "metadata": {},
   "outputs": [
    {
     "name": "stderr",
     "output_type": "stream",
     "text": [
      "C:\\Users\\Bertola\\AppData\\Local\\Temp\\ipykernel_15600\\2342815804.py:8: FutureWarning: The default of observed=False is deprecated and will be changed to True in a future version of pandas. Pass observed=False to retain current behavior or observed=True to adopt the future default and silence this warning.\n",
      "  runtimeInterval_stats = my_copy.groupby('runtimeInterval').agg(\n"
     ]
    }
   ],
   "source": [
    "my_copy = my\n",
    "# Criar os intervalos\n",
    "bins = [60, 90, 120, 150, 180, float('inf')]\n",
    "labels = ['60-90', '91-120', '121-150', '151-180', '>180']\n",
    "\n",
    "# Aplicar os intervalos na coluna 'runtimeMinutes'\n",
    "my_copy['runtimeInterval'] = pd.cut(my_copy['runtimeMinutes'], bins=bins, labels=labels, right=False)\n",
    "runtimeInterval_stats = my_copy.groupby('runtimeInterval').agg(\n",
    "    count=('runtimeInterval', 'size'),  # Contar aparições\n",
    "    personal_score_mean=('personal_score', 'mean'),  # Média de personal_score\n",
    "    averageRating_mean=('averageRating', 'mean')  # Média de averageRating\n",
    ").reset_index()"
   ]
  },
  {
   "cell_type": "code",
   "execution_count": 170,
   "id": "5b1fc0ee",
   "metadata": {},
   "outputs": [],
   "source": [
    "numVotes_stats = my.groupby('numVotes').agg(\n",
    "    count=('numVotes', 'size'),  # Contar aparições\n",
    "    personal_score_mean=('personal_score', 'mean'),  # Média de personal_score\n",
    "    averageRating_mean=('averageRating', 'mean')  # Média de averageRating\n",
    ").reset_index() "
   ]
  },
  {
   "cell_type": "code",
   "execution_count": 171,
   "id": "153ebd8d",
   "metadata": {},
   "outputs": [
    {
     "name": "stderr",
     "output_type": "stream",
     "text": [
      "C:\\Users\\Bertola\\AppData\\Local\\Temp\\ipykernel_15600\\1667980036.py:8: FutureWarning: The default of observed=False is deprecated and will be changed to True in a future version of pandas. Pass observed=False to retain current behavior or observed=True to adopt the future default and silence this warning.\n",
      "  numVotesInterval_stats = my_copy.groupby('numVotesInterval').agg(\n"
     ]
    }
   ],
   "source": [
    "my_copy = my\n",
    "# Criar os intervalos\n",
    "bins = [100, 1000, 10000, 100000, 1000000, float('inf')]\n",
    "labels = ['100-1000', '1001-10000', '10001-100000', '100001-10000000', '>10000000']\n",
    "\n",
    "# Aplicar os intervalos na coluna 'runtimeMinutes'\n",
    "my_copy['numVotesInterval'] = pd.cut(my_copy['numVotes'], bins=bins, labels=labels, right=False)\n",
    "numVotesInterval_stats = my_copy.groupby('numVotesInterval').agg(\n",
    "    count=('numVotesInterval', 'size'),  # Contar aparições\n",
    "    personal_score_mean=('personal_score', 'mean'),  # Média de personal_score\n",
    "    averageRating_mean=('averageRating', 'mean')  # Média de averageRating\n",
    ").reset_index()"
   ]
  },
  {
   "cell_type": "code",
   "execution_count": 172,
   "id": "8d2131ed",
   "metadata": {},
   "outputs": [],
   "source": [
    "genre_stats.to_csv(genres_path)\n",
    "directors_stats.to_csv(directors_path)\n",
    "writers_stats.to_csv(writers_path)\n",
    "nconst_stats.to_csv(nconst_path)\n",
    "years_stats.to_csv(years_path)\n",
    "decades_stats.to_csv(decades_path)\n",
    "runtime_stats.to_csv(runtime_path)\n",
    "runtimeInterval_stats.to_csv(runtimeInterval_path)\n",
    "numVotes_stats.to_csv(numVotes_path)\n",
    "numVotesInterval_stats.to_csv(numVotesInterval_path)"
   ]
  },
  {
   "cell_type": "code",
   "execution_count": null,
   "id": "150d5b0b",
   "metadata": {},
   "outputs": [],
   "source": []
  }
 ],
 "metadata": {
  "kernelspec": {
   "display_name": "Python 3",
   "language": "python",
   "name": "python3"
  },
  "language_info": {
   "codemirror_mode": {
    "name": "ipython",
    "version": 3
   },
   "file_extension": ".py",
   "mimetype": "text/x-python",
   "name": "python",
   "nbconvert_exporter": "python",
   "pygments_lexer": "ipython3",
   "version": "3.12.0"
  }
 },
 "nbformat": 4,
 "nbformat_minor": 5
}
