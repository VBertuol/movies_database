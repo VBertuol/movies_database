{
 "cells": [
  {
   "cell_type": "code",
   "execution_count": 37,
   "id": "d0d1cbbe-40d7-43d1-a713-fed2fe6391c8",
   "metadata": {},
   "outputs": [],
   "source": [
    "import pandas as pd\n",
    "path = 'Minhas Listas - Filmes.csv'"
   ]
  },
  {
   "cell_type": "code",
   "execution_count": 10,
   "id": "f2a9984a-c379-41de-af67-65a66e4ee314",
   "metadata": {},
   "outputs": [],
   "source": [
    "my = pd.read_csv(path, low_memory=False, index_col='tconst' )\n",
    "movies = pd.read_csv('movies.csv', low_memory=False, index_col='tconst')\n",
    "names = pd.read_csv('imdb_dataset/name.basics.tsv', sep='\\t', low_memory=False)"
   ]
  },
  {
   "cell_type": "code",
   "execution_count": 38,
   "id": "932b1d78",
   "metadata": {},
   "outputs": [
    {
     "data": {
      "application/vnd.microsoft.datawrangler.viewer.v0+json": {
       "columns": [
        {
         "name": "index",
         "rawType": "object",
         "type": "string"
        },
        {
         "name": "tt0085794",
         "rawType": "object",
         "type": "unknown"
        }
       ],
       "ref": "4f775ec8-66c8-490f-951d-0981aa51427d",
       "rows": [
        [
         "originalTitle",
         "The King of Comedy"
        ],
        [
         "startYear",
         "1982"
        ],
        [
         "runtimeMinutes",
         "109"
        ],
        [
         "genres",
         "Comedy,Crime,Drama"
        ],
        [
         "averageRating",
         "7.8"
        ],
        [
         "numVotes",
         "126353.0"
        ],
        [
         "directors",
         "Martin Scorsese"
        ],
        [
         "writers",
         "Paul D. Zimmerman"
        ],
        [
         "nconst",
         "Robert De Niro, Jerry Lewis, Diahnne Abbott, Sandra Bernhard, Ed Herlihy, Lou Brown, Loretta Tupper, Peter Potulski, Vinnie Gonzales, Whitey Ryan"
        ]
       ],
       "shape": {
        "columns": 1,
        "rows": 9
       }
      },
      "text/plain": [
       "originalTitle                                    The King of Comedy\n",
       "startYear                                                      1982\n",
       "runtimeMinutes                                                  109\n",
       "genres                                           Comedy,Crime,Drama\n",
       "averageRating                                                   7.8\n",
       "numVotes                                                   126353.0\n",
       "directors                                           Martin Scorsese\n",
       "writers                                           Paul D. Zimmerman\n",
       "nconst            Robert De Niro, Jerry Lewis, Diahnne Abbott, S...\n",
       "Name: tt0085794, dtype: object"
      ]
     },
     "execution_count": 38,
     "metadata": {},
     "output_type": "execute_result"
    }
   ],
   "source": [
    "movies.loc['tt0085794']"
   ]
  },
  {
   "cell_type": "code",
   "execution_count": 43,
   "id": "e99bead0",
   "metadata": {},
   "outputs": [],
   "source": [
    "new_entry = 'tt0085794'\n",
    "entry_dict = {'tconst':new_entry}"
   ]
  },
  {
   "cell_type": "code",
   "execution_count": 44,
   "id": "a7f5e61e",
   "metadata": {},
   "outputs": [],
   "source": [
    "entry_dict['originalTitle'] = movies.loc[new_entry, 'originalTitle']\n",
    "entry_dict['startYear'] = int(movies.loc[new_entry, 'startYear'])\n",
    "entry_dict['runtimeMinutes'] = int(movies.loc[new_entry, 'runtimeMinutes'])\n",
    "entry_dict['genres'] = movies.loc[new_entry, 'genres']\n",
    "entry_dict['directors'] = movies.loc[new_entry, 'directors']\n",
    "entry_dict['writers'] = movies.loc[new_entry, 'writers']\n",
    "entry_dict['averageRating'] = float(movies.loc[new_entry, 'averageRating'])\n",
    "entry_dict['numVotes'] = int(movies.loc[new_entry, 'numVotes'])\n",
    "entry_dict['nconst'] = movies.loc[new_entry, 'nconst']"
   ]
  },
  {
   "cell_type": "code",
   "execution_count": 45,
   "id": "476c3325",
   "metadata": {},
   "outputs": [
    {
     "data": {
      "text/plain": [
       "{'tconst': 'tt0085794',\n",
       " 'originalTitle': 'The King of Comedy',\n",
       " 'startYear': 1982,\n",
       " 'runtimeMinutes': 109,\n",
       " 'genres': 'Comedy,Crime,Drama',\n",
       " 'directors': 'Martin Scorsese',\n",
       " 'writers': 'Paul D. Zimmerman',\n",
       " 'averageRating': 7.8,\n",
       " 'numVotes': 126353,\n",
       " 'nconst': 'Robert De Niro, Jerry Lewis, Diahnne Abbott, Sandra Bernhard, Ed Herlihy, Lou Brown, Loretta Tupper, Peter Potulski, Vinnie Gonzales, Whitey Ryan'}"
      ]
     },
     "execution_count": 45,
     "metadata": {},
     "output_type": "execute_result"
    }
   ],
   "source": [
    "entry_dict"
   ]
  },
  {
   "cell_type": "code",
   "execution_count": 46,
   "id": "705bbd66",
   "metadata": {},
   "outputs": [],
   "source": [
    "entry_dict['personal_score'] = 7\n"
   ]
  },
  {
   "cell_type": "code",
   "execution_count": 47,
   "id": "e28044b8",
   "metadata": {},
   "outputs": [],
   "source": [
    "new_entry_df = pd.DataFrame([entry_dict])\n",
    "new_entry_df.set_index('tconst', inplace=True)\n",
    "my = pd.concat([my, new_entry_df], axis=0)\n"
   ]
  },
  {
   "cell_type": "code",
   "execution_count": 48,
   "id": "35ef3cdf",
   "metadata": {},
   "outputs": [
    {
     "data": {
      "application/vnd.microsoft.datawrangler.viewer.v0+json": {
       "columns": [
        {
         "name": "index",
         "rawType": "object",
         "type": "string"
        },
        {
         "name": "tt0085794",
         "rawType": "object",
         "type": "unknown"
        }
       ],
       "ref": "044e422b-8316-4534-9be9-e79e9f2e5a48",
       "rows": [
        [
         "originalTitle",
         "The King of Comedy"
        ],
        [
         "personal_score",
         "7.0"
        ],
        [
         "averageRating",
         "7.8"
        ],
        [
         "startYear",
         "1982"
        ],
        [
         "genres",
         "Comedy,Crime,Drama"
        ],
        [
         "runtimeMinutes",
         "109"
        ],
        [
         "directors",
         "Martin Scorsese"
        ],
        [
         "writers",
         "Paul D. Zimmerman"
        ],
        [
         "numVotes",
         "126353"
        ],
        [
         "nconst",
         "Robert De Niro, Jerry Lewis, Diahnne Abbott, Sandra Bernhard, Ed Herlihy, Lou Brown, Loretta Tupper, Peter Potulski, Vinnie Gonzales, Whitey Ryan"
        ]
       ],
       "shape": {
        "columns": 1,
        "rows": 10
       }
      },
      "text/plain": [
       "originalTitle                                    The King of Comedy\n",
       "personal_score                                                  7.0\n",
       "averageRating                                                   7.8\n",
       "startYear                                                      1982\n",
       "genres                                           Comedy,Crime,Drama\n",
       "runtimeMinutes                                                  109\n",
       "directors                                           Martin Scorsese\n",
       "writers                                           Paul D. Zimmerman\n",
       "numVotes                                                     126353\n",
       "nconst            Robert De Niro, Jerry Lewis, Diahnne Abbott, S...\n",
       "Name: tt0085794, dtype: object"
      ]
     },
     "execution_count": 48,
     "metadata": {},
     "output_type": "execute_result"
    }
   ],
   "source": [
    "my.loc[new_entry]"
   ]
  },
  {
   "cell_type": "code",
   "execution_count": 49,
   "id": "02ec3a3c",
   "metadata": {},
   "outputs": [],
   "source": [
    "my.drop_duplicates(inplace=True)\n",
    "my.to_csv(path)"
   ]
  }
 ],
 "metadata": {
  "kernelspec": {
   "display_name": "Python 3",
   "language": "python",
   "name": "python3"
  },
  "language_info": {
   "codemirror_mode": {
    "name": "ipython",
    "version": 3
   },
   "file_extension": ".py",
   "mimetype": "text/x-python",
   "name": "python",
   "nbconvert_exporter": "python",
   "pygments_lexer": "ipython3",
   "version": "3.12.0"
  }
 },
 "nbformat": 4,
 "nbformat_minor": 5
}
